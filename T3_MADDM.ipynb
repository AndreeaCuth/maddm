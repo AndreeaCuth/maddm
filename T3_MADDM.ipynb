{
 "cells": [
  {
   "cell_type": "code",
   "execution_count": 113,
   "id": "b4caaca9-96a3-4e31-bcc3-86e1607e339e",
   "metadata": {},
   "outputs": [],
   "source": [
    "#importam lib necesare\n",
    "import pandas as pd\n",
    "import matplotlib.pyplot as plt\n",
    "from sklearn.preprocessing import StandardScaler\n",
    "import numpy as np\n",
    "from sklearn.model_selection import cross_val_score\n",
    "from sklearn.ensemble import RandomForestClassifier\n",
    "import numpy as np\n",
    "import pandas as pd\n",
    "from sklearn.model_selection import cross_validate, StratifiedKFold\n",
    "from sklearn.ensemble import RandomForestClassifier\n",
    "from sklearn.metrics import make_scorer, f1_score, roc_auc_score, accuracy_score"
   ]
  },
  {
   "cell_type": "code",
   "execution_count": 121,
   "id": "tema3-classification-task",
   "metadata": {},
   "outputs": [
    {
     "name": "stdout",
     "output_type": "stream",
     "text": [
      "Acuratete medie: 1.0\n"
     ]
    }
   ],
   "source": [
    "\n",
    "#Tema 3 - Clasificare\n",
    "\n",
    "#modificam parametrii algoritmului pentru a observa efectul asupra predictiilor\n",
    "#evaluarea modelului se realizeaza folosind strategia de 10-fold cross-validation\n",
    "#utilizam cel putin 3 metrici pentru a estima performanta modelului\n",
    "\n",
    "#initializam clasificatorul\n",
    "clf = RandomForestClassifier(n_estimators=100, random_state=42)\n",
    "\n",
    "#selectam coloanele folosite pentru clasificare si target-ul\n",
    "X = data.drop('G3', axis=1)  #'G3' este coloana target\n",
    "y = data['G3'] > 10  #transformam problema intr-o clasificare binara\n",
    "\n",
    "#evaluam modelul folosind cross-validation\n",
    "scores = cross_val_score(clf, X, y, cv=10)\n",
    "print(\"Acuratete medie:\", scores.mean())\n"
   ]
  },
  {
   "cell_type": "code",
   "execution_count": 124,
   "id": "eca7d429-d9b0-442f-9690-afa732da414f",
   "metadata": {},
   "outputs": [
    {
     "name": "stderr",
     "output_type": "stream",
     "text": [
      "C:\\Users\\Andreea\\miniconda3\\envs\\RNP\\Lib\\site-packages\\sklearn\\metrics\\_scorer.py:610: FutureWarning: The `needs_threshold` and `needs_proba` parameter are deprecated in version 1.4 and will be removed in 1.6. You can either let `response_method` be `None` or set it to `predict` to preserve the same behaviour.\n",
      "  warnings.warn(\n"
     ]
    },
    {
     "name": "stdout",
     "output_type": "stream",
     "text": [
      "Accuracy: 0.8382051282051283\n",
      "F1 Score: 0.8800294944512658\n",
      "ROC AUC: 0.9274819197896121\n"
     ]
    }
   ],
   "source": [
    "data = pd.read_csv(\"student-mat.csv\")\n",
    "#pregatim datele pentru clasificare\n",
    "#convertim G3 intr-o variabila binara conform cerintelor\n",
    "#daca G3 este mai mare sau egal cu 10, spunem ca elevul a trecut (1), altfel nu (0)\n",
    "data['G3_binary'] = (data['G3'] >= 10).astype(int)\n",
    "\n",
    "#alegem caracteristicile (X) si tinta (y)\n",
    "#ne uitam la varsta elevului, cate absente are si prima nota (G1)\n",
    "X = data[['age', 'absences', 'G1']]\n",
    "y = data['G3_binary']  #variabila tinta binara\n",
    "\n",
    "#definim functia pentru masurarea scorului ROC AUC (cat de bine separa clasele)\n",
    "#aceasta masura este utila mai ales cand clasele sunt dezechilibrate (mai multi elevi care trec decat cei care pica)\n",
    "def safe_roc_auc_scorer(y_true, y_pred_proba):\n",
    "    #verifica daca y_pred_proba este unidimensional\n",
    "    if y_pred_proba.ndim == 1 or y_pred_proba.shape[1] == 1:\n",
    "        y_pred_proba = np.column_stack((1 - y_pred_proba, y_pred_proba))\n",
    "    return roc_auc_score(y_true, y_pred_proba[:, 1])\n",
    "\n",
    "#creare scorer pentru ROC AUC\n",
    "#alegem sa folosim un scorer personalizat pentru a ne asigura ca masuram ROC AUC corect, chiar daca modelul returneaza o predictie unidimensionala\n",
    "roc_auc_scorer = make_scorer(safe_roc_auc_scorer, needs_proba=True)\n",
    "\n",
    "#definim scorurile pentru evaluare\n",
    "scoring = {\n",
    "    'accuracy': 'accuracy', #pentru a vedea procentul total al predictiilor corecte\n",
    "    'f1': make_scorer(f1_score, average='binary', zero_division=1), #pentru a echilibra precizia si rechemarea, mai ales util in cazul claselor dezechilibrate\n",
    "    'roc_auc': roc_auc_scorer #pentru a vedea cat de bine separa modelul cele doua clase\n",
    "}\n",
    "\n",
    "#configuram validarea incrucisata\n",
    "#alegem StratifiedKFold pentru a pastra proportiile claselor in fiecare fold, evitand astfel evaluari incorecte in cazul datelor dezechilibrate\n",
    "cv = StratifiedKFold(n_splits=10, shuffle=True, random_state=42)\n",
    "\n",
    "#initializam clasificatorul\n",
    "#Random Forest foloseste 100 de arbori de decizie cu o adancime maxima de 10\n",
    "clf = RandomForestClassifier(n_estimators=100, max_depth=10, random_state=42)\n",
    "\n",
    "#evaluam modelul folosind cross_validate\n",
    "#validam modelul pe 10 parti diferite pentru a preveni overfitting-ul si calculam scorurile\n",
    "results = cross_validate(clf, X, y, cv=cv, scoring=scoring, return_train_score=False)\n",
    "\n",
    "#calculam media acuratetei, F1 Score si ROC AUC din cele 10 fold-uri\n",
    "#afisam scorurile medii pentru fiecare metrica\n",
    "print(\"Accuracy:\", np.mean(results['test_accuracy']))\n",
    "print(\"F1 Score:\", np.mean(results['test_f1']))\n",
    "print(\"ROC AUC:\", np.mean(results['test_roc_auc']))\n"
   ]
  },
  {
   "cell_type": "code",
   "execution_count": null,
   "id": "467e0538-fb9d-40d9-a724-0178d936b752",
   "metadata": {},
   "outputs": [],
   "source": []
  }
 ],
 "metadata": {
  "kernelspec": {
   "display_name": "Python 3 (ipykernel)",
   "language": "python",
   "name": "python3"
  },
  "language_info": {
   "codemirror_mode": {
    "name": "ipython",
    "version": 3
   },
   "file_extension": ".py",
   "mimetype": "text/x-python",
   "name": "python",
   "nbconvert_exporter": "python",
   "pygments_lexer": "ipython3",
   "version": "3.11.10"
  }
 },
 "nbformat": 4,
 "nbformat_minor": 5
}
