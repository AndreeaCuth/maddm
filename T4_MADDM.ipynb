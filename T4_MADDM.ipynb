{
 "cells": [
  {
   "cell_type": "code",
   "execution_count": 14,
   "id": "f6b295ca-55a0-411a-99d0-bdce51162fe6",
   "metadata": {},
   "outputs": [],
   "source": [
    "#Tema 4\n",
    "#Articolul „A Rapid Review of Clustering Algorithms” scris de Hui Yin, Amir Aryani, Stephen Petrie, Aishwarya Nambissan, Aland Astudillo si Shengyuan Cao ofera o analiza detaliata a principalelor tehnici de clustering utilizate in domeniul invatarii automate. \n",
    "#Sunt descrise trei categorii principale de algoritmi: metode bazate pe partitie (precum k-means), metode ierarhice (clustering aglomerativ) si metode bazate pe densitate. \n",
    "#Fiecare metoda este analizata in functie de avantajele si dezavantajele sale, cum ar fi eficienta, scalabilitatea si sensibilitatea la setarile de hiperparametri. \n",
    "#Articolul evidentiaza aplicatiile practice ale algoritmilor in diverse domenii, cum ar fi analiza datelor complexe si segmentarea de imagini. \n",
    "#In final, sunt discutate tendintele actuale, incluzand utilizarea tehnicilor hibride si provocarile din procesul de scalare la seturi de date mari. \n",
    "#Articolul ofera, de asemenea, directii viitoare de cercetare, cum ar fi integrarea clustering-ului cu retelele neuronale pentru analiza datelor nestructurate."
   ]
  },
  {
   "cell_type": "code",
   "execution_count": 15,
   "id": "467e0538-fb9d-40d9-a724-0178d936b752",
   "metadata": {},
   "outputs": [
    {
     "data": {
      "text/plain": [
       "(4.466503212015602, 0.7821754247320557)"
      ]
     },
     "execution_count": 15,
     "metadata": {},
     "output_type": "execute_result"
    }
   ],
   "source": [
    "from sklearn.model_selection import train_test_split\n",
    "from sklearn.linear_model import LinearRegression\n",
    "from sklearn.metrics import mean_squared_error, r2_score\n",
    "import matplotlib.pyplot as plt\n",
    "\n",
    "\n",
    "#Selectam coloanele numerice relevante pentru regresie\n",
    "#Am ales 'G1' si 'G2' (primele doua note), 'studytime' (timpul de studiu), \n",
    "#'failures' (numarul de esecuri) si 'absences' (absentele) ca predictori pentru 'G3' (nota finala)\n",
    "features = ['G1', 'G2', 'studytime', 'failures', 'absences']\n",
    "target = 'G3'\n",
    "\n",
    "#Extragem predictori (X) si tinta (y)\n",
    "X = data[features]\n",
    "y = data[target]\n",
    "\n",
    "#Impartim setul de date in seturi de antrenament (80%) si testare (20%)\n",
    "#Aceasta separare este necesara pentru a evalua corect performanta modelului\n",
    "X_train, X_test, y_train, y_test = train_test_split(X, y, test_size=0.2, random_state=42)\n",
    "\n",
    "#Initializam si antrenam modelul de regresie liniara\n",
    "#Regresia liniara este simpla si interpretabila, fiind potrivita pentru datele noastre\n",
    "model = LinearRegression()\n",
    "model.fit(X_train, y_train)\n",
    "\n",
    "#Facem predictii pe setul de testare\n",
    "y_pred = model.predict(X_test)\n",
    "\n",
    "#Evaluam modelul utilizand metricile de performanta\n",
    "#Mean Squared Error (mse): indica eroarea medie patrata intre valorile reale si cele prezise\n",
    "#R-squared (r2): indica cat de bine explica modelul variabilitatea datelor (1.0 inseamna perfect)\n",
    "mse = mean_squared_error(y_test, y_pred)\n",
    "r2 = r2_score(y_test, y_pred)\n",
    "\n",
    "#Afisam metricile de evaluare\n",
    "mse, r2\n"
   ]
  },
  {
   "cell_type": "code",
   "execution_count": null,
   "id": "000517cc-6cb7-4a0d-8a81-9e787c602bd0",
   "metadata": {},
   "outputs": [],
   "source": []
  },
  {
   "cell_type": "code",
   "execution_count": null,
   "id": "b98a1898-5d18-45f1-8c55-c1045e02105c",
   "metadata": {},
   "outputs": [],
   "source": []
  }
 ],
 "metadata": {
  "kernelspec": {
   "display_name": "Python 3 (ipykernel)",
   "language": "python",
   "name": "python3"
  },
  "language_info": {
   "codemirror_mode": {
    "name": "ipython",
    "version": 3
   },
   "file_extension": ".py",
   "mimetype": "text/x-python",
   "name": "python",
   "nbconvert_exporter": "python",
   "pygments_lexer": "ipython3",
   "version": "3.11.10"
  }
 },
 "nbformat": 4,
 "nbformat_minor": 5
}
