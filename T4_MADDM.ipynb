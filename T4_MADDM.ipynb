{
 "cells": [
  {
   "cell_type": "code",
   "execution_count": null,
   "id": "ad74d5ed-77e7-43f0-a91f-11637b5eb128",
   "metadata": {},
   "outputs": [],
   "source": [
    "#Tema 4\n",
    "\n",
    "'''Articolul „A protocol for conducting and presenting results of regression-type analyses” oferă un ghid structurat pentru efectuarea și prezentarea analizelor de regresie, cu accent pe cercetările ecologice. \n",
    "Protocolul detaliază fiecare etapă a analizei: definirea întrebărilor de cercetare, colectarea și explorarea datelor, construirea și ajustarea modelelor, validarea acestora și prezentarea rezultatelor.\n",
    "Sunt evidențiate bunele practici pentru clarificarea relațiilor dintre variabile și evitarea erorilor comune, precum suprainterpretarea rezultatelor. \n",
    "Articolul subliniază importanța utilizării tehnicilor grafice și numerice pentru a comunica eficient rezultatele, precum și posibilitatea extinderii modelelor prin simulări.\n",
    "Acest protocol este util pentru standardizarea procesului de analiză și creșterea transparenței în cercetare, promovând rigurozitatea științifică și reproducibilitatea. \n",
    "Este destinat cercetătorilor care folosesc regresia în studii ecologice, dar principiile pot fi aplicate și în alte domenii.'''"
   ]
  },
  {
   "cell_type": "code",
   "execution_count": 15,
   "id": "467e0538-fb9d-40d9-a724-0178d936b752",
   "metadata": {},
   "outputs": [
    {
     "data": {
      "text/plain": [
       "(4.466503212015602, 0.7821754247320557)"
      ]
     },
     "execution_count": 15,
     "metadata": {},
     "output_type": "execute_result"
    }
   ],
   "source": [
    "from sklearn.model_selection import train_test_split\n",
    "from sklearn.linear_model import LinearRegression\n",
    "from sklearn.metrics import mean_squared_error, r2_score\n",
    "import matplotlib.pyplot as plt\n",
    "\n",
    "\n",
    "#Selectam coloanele numerice relevante pentru regresie\n",
    "#Am ales 'G1' si 'G2' (primele doua note), 'studytime' (timpul de studiu), \n",
    "#'failures' (numarul de esecuri) si 'absences' (absentele) ca predictori pentru 'G3' (nota finala)\n",
    "features = ['G1', 'G2', 'studytime', 'failures', 'absences']\n",
    "target = 'G3'\n",
    "\n",
    "#Extragem predictori (X) si tinta (y)\n",
    "X = data[features]\n",
    "y = data[target]\n",
    "\n",
    "#Impartim setul de date in seturi de antrenament (80%) si testare (20%)\n",
    "#Aceasta separare este necesara pentru a evalua corect performanta modelului\n",
    "X_train, X_test, y_train, y_test = train_test_split(X, y, test_size=0.2, random_state=42)\n",
    "\n",
    "#Initializam si antrenam modelul de regresie liniara\n",
    "#Regresia liniara este simpla si interpretabila, fiind potrivita pentru datele noastre\n",
    "model = LinearRegression()\n",
    "model.fit(X_train, y_train)\n",
    "\n",
    "#Facem predictii pe setul de testare\n",
    "y_pred = model.predict(X_test)\n",
    "\n",
    "#Evaluam modelul utilizand metricile de performanta\n",
    "#Mean Squared Error (mse): indica eroarea medie patrata intre valorile reale si cele prezise\n",
    "#R-squared (r2): indica cat de bine explica modelul variabilitatea datelor (1.0 inseamna perfect)\n",
    "mse = mean_squared_error(y_test, y_pred)\n",
    "r2 = r2_score(y_test, y_pred)\n",
    "\n",
    "#Afisam metricile de evaluare\n",
    "mse, r2\n"
   ]
  }
 ],
 "metadata": {
  "kernelspec": {
   "display_name": "Python 3 (ipykernel)",
   "language": "python",
   "name": "python3"
  },
  "language_info": {
   "codemirror_mode": {
    "name": "ipython",
    "version": 3
   },
   "file_extension": ".py",
   "mimetype": "text/x-python",
   "name": "python",
   "nbconvert_exporter": "python",
   "pygments_lexer": "ipython3",
   "version": "3.11.10"
  }
 },
 "nbformat": 4,
 "nbformat_minor": 5
}
